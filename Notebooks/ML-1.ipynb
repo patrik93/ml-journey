{
 "cells": [
  {
   "cell_type": "code",
   "execution_count": 11,
   "id": "bf1f5b26-bcbf-4622-aa18-3b9992cbe662",
   "metadata": {},
   "outputs": [
    {
     "name": "stderr",
     "output_type": "stream",
     "text": [
      "/opt/conda/lib/python3.10/site-packages/sklearn/base.py:450: UserWarning: X does not have valid feature names, but DecisionTreeClassifier was fitted with feature names\n",
      "  warnings.warn(\n"
     ]
    },
    {
     "data": {
      "text/plain": [
       "array(['HipHop', 'Classical', 'Dance'], dtype=object)"
      ]
     },
     "execution_count": 11,
     "metadata": {},
     "output_type": "execute_result"
    }
   ],
   "source": [
    "import pandas as pd\n",
    "from sklearn.tree import DecisionTreeClassifier\n",
    "\n",
    "music_data = pd.read_csv('music.csv')\n",
    "X = music_data.drop(columns = ['genre'])\n",
    "y = music_data['genre']\n",
    "\n",
    "model = DecisionTreeClassifier()\n",
    "model.fit(X, y)\n",
    "predictions = model.predict([ [21, 1], [50, 0], [22, 0] ])\n",
    "predictions\n",
    "#music_data\n"
   ]
  },
  {
   "cell_type": "code",
   "execution_count": 33,
   "id": "7785e59a-cc09-4672-9df1-33385c629e7a",
   "metadata": {},
   "outputs": [
    {
     "data": {
      "text/plain": [
       "1.0"
      ]
     },
     "execution_count": 33,
     "metadata": {},
     "output_type": "execute_result"
    }
   ],
   "source": [
    "import pandas as pd\n",
    "from sklearn.tree import DecisionTreeClassifier\n",
    "from sklearn.model_selection import train_test_split\n",
    "from sklearn.metrics import accuracy_score\n",
    "\n",
    "\n",
    "music_data = pd.read_csv('music.csv')\n",
    "X = music_data.drop(columns = ['genre'])\n",
    "y = music_data['genre']\n",
    "\n",
    "X_train, X_test, y_train, y_test = train_test_split(X, y, test_size=0.2)\n",
    "\n",
    "model = DecisionTreeClassifier()\n",
    "model.fit(X_train, y_train)\n",
    "predictions = model.predict(X_test)\n",
    "score = accuracy_score(y_test,predictions)\n",
    "score\n",
    "#music_data"
   ]
  },
  {
   "cell_type": "code",
   "execution_count": 225,
   "id": "9c482fec-00d2-4367-a648-b00f1b6b47ec",
   "metadata": {},
   "outputs": [
    {
     "name": "stderr",
     "output_type": "stream",
     "text": [
      "/opt/conda/lib/python3.10/site-packages/sklearn/base.py:450: UserWarning: X does not have valid feature names, but DecisionTreeClassifier was fitted with feature names\n",
      "  warnings.warn(\n"
     ]
    },
    {
     "data": {
      "text/plain": [
       "array(['Household', 'Grocery'], dtype=object)"
      ]
     },
     "execution_count": 225,
     "metadata": {},
     "output_type": "execute_result"
    }
   ],
   "source": [
    "import pandas as pd\n",
    "import numpy as np\n",
    "from sklearn.tree import DecisionTreeClassifier\n",
    "from sklearn.model_selection import train_test_split\n",
    "from sklearn.metrics import accuracy_score\n",
    "from sklearn.preprocessing import LabelEncoder\n",
    "\n",
    "def prediction(shop_to_predict,db):\n",
    "     \n",
    "    result = db.loc[db['Description'].str.contains(shop_to_predict, case=False)]\n",
    "    result = result['code'].tolist()\n",
    "    return result[0]\n",
    "\n",
    "dataset = pd.read_csv('new_input.csv')\n",
    "X = dataset.drop(columns = ['Category'])\n",
    "y = dataset['Category']\n",
    "output = X.copy()\n",
    "\n",
    "encoded = LabelEncoder().fit_transform(output['Description'])\n",
    "ndf = pd.DataFrame(encoded,columns=['code'])\n",
    "db = output.join(ndf)\n",
    "db2 = db.drop(columns = ['Description'])\n",
    "\n",
    "result = prediction('Ikea',db)\n",
    "result1 = prediction('Billa',db)\n",
    "\n",
    "model = DecisionTreeClassifier()\n",
    "model.fit(db2, y)\n",
    "pred = model.predict([ [result],[result1]  ])\n",
    "pred"
   ]
  },
  {
   "cell_type": "code",
   "execution_count": null,
   "id": "5f7dc43c-a920-42fe-81ab-2ceea95ddc8c",
   "metadata": {},
   "outputs": [],
   "source": []
  }
 ],
 "metadata": {
  "kernelspec": {
   "display_name": "Python 3 (ipykernel)",
   "language": "python",
   "name": "python3"
  },
  "language_info": {
   "codemirror_mode": {
    "name": "ipython",
    "version": 3
   },
   "file_extension": ".py",
   "mimetype": "text/x-python",
   "name": "python",
   "nbconvert_exporter": "python",
   "pygments_lexer": "ipython3",
   "version": "3.10.6"
  }
 },
 "nbformat": 4,
 "nbformat_minor": 5
}
