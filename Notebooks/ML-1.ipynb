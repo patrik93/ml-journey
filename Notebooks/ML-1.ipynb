{
 "cells": [
  {
   "cell_type": "code",
   "execution_count": null,
   "id": "bf1f5b26-bcbf-4622-aa18-3b9992cbe662",
   "metadata": {},
   "outputs": [],
   "source": [
    "import pandas as pd\n",
    "from sklearn.tree import DecisionTreeClassifier\n",
    "\n",
    "music_data = pd.read_csv('music.csv')\n",
    "X = music_data.drop(columns = ['genre'])\n",
    "y = music_data['genre']\n",
    "\n",
    "model = DecisionTreeClassifier()\n",
    "model.fit(X, y)\n",
    "predictions = model.predict([ [21, 1], [50, 0], [22, 0] ])\n",
    "predictions\n",
    "#music_data\n"
   ]
  },
  {
   "cell_type": "code",
   "execution_count": null,
   "id": "7785e59a-cc09-4672-9df1-33385c629e7a",
   "metadata": {},
   "outputs": [],
   "source": [
    "import pandas as pd\n",
    "from sklearn.tree import DecisionTreeClassifier\n",
    "from sklearn.model_selection import train_test_split\n",
    "from sklearn.metrics import accuracy_score\n",
    "\n",
    "\n",
    "music_data = pd.read_csv('music.csv')\n",
    "X = music_data.drop(columns = ['genre'])\n",
    "y = music_data['genre']\n",
    "\n",
    "X_train, X_test, y_train, y_test = train_test_split(X, y, test_size=0.2)\n",
    "\n",
    "model = DecisionTreeClassifier()\n",
    "model.fit(X_train, y_train)\n",
    "predictions = model.predict(X_test)\n",
    "score = accuracy_score(y_test,predictions)\n",
    "score\n",
    "#music_data"
   ]
  },
  {
   "cell_type": "code",
   "execution_count": null,
   "id": "9c482fec-00d2-4367-a648-b00f1b6b47ec",
   "metadata": {},
   "outputs": [],
   "source": [
    "import pandas as pd\n",
    "import numpy as np\n",
    "from sklearn.tree import DecisionTreeClassifier\n",
    "from sklearn.model_selection import train_test_split\n",
    "from sklearn.metrics import accuracy_score\n",
    "from sklearn.preprocessing import LabelEncoder\n",
    "\n",
    "def prediction(shop_to_predict,db):\n",
    "     \n",
    "    result = db.loc[db['Description'].str.contains(shop_to_predict, case=False)]\n",
    "    result = result['code'].tolist()\n",
    "    return result[0]\n",
    "\n",
    "dataset = pd.read_csv('new_input.csv')\n",
    "X = dataset.drop(columns = ['Category'])\n",
    "y = dataset['Category']\n",
    "output = X.copy()\n",
    "\n",
    "encoded = LabelEncoder().fit_transform(output['Description'])\n",
    "ndf = pd.DataFrame(encoded,columns=['code'])\n",
    "db = output.join(ndf)\n",
    "db2 = db.drop(columns = ['Description'])\n",
    "\n",
    "result = prediction('Ikea',db)\n",
    "result1 = prediction('Billa',db)\n",
    "\n",
    "model = DecisionTreeClassifier()\n",
    "model.fit(db2, y)\n",
    "pred = model.predict([ [result],[result1]  ])\n",
    "pred"
   ]
  },
  {
   "cell_type": "code",
   "execution_count": 19,
   "id": "5f7dc43c-a920-42fe-81ab-2ceea95ddc8c",
   "metadata": {},
   "outputs": [],
   "source": [
    "import pandas as pd\n",
    "import numpy as np\n",
    "from sklearn.tree import DecisionTreeClassifier\n",
    "from sklearn.model_selection import train_test_split\n",
    "from sklearn.metrics import accuracy_score\n",
    "from sklearn.feature_extraction.text import HashingVectorizer\n",
    "\n",
    "class Model:\n",
    "    \n",
    "    # Initializing the model from DecisionTreeClassifier\n",
    "    model = DecisionTreeClassifier()\n",
    "    \n",
    "    # Initializing the hashing vectorizer\n",
    "    vectorizer = HashingVectorizer()\n",
    "    def __init__(self):     \n",
    "        \n",
    "        # Prepare the data for the initial train\n",
    "        X,y = self.prepare_train()\n",
    "        \n",
    "        # Debug to check the initial preparation with the data\n",
    "        #print(f'from init: X: {X}, \\n y: {y}')\n",
    "        \n",
    "        # Initial training of the model\n",
    "        self.train(X,y)\n",
    "        \n",
    "        \n",
    "        # Create predictions from the test input\n",
    "        #predictions = model.predict(X_test)\n",
    "    def predict(self,X):\n",
    "        X = X['Description']\n",
    "        X = self.vectorizer.transform(X)\n",
    "        prediction = self.model.predict(X)\n",
    "        print(f'Prediction from the class object: \\n{prediction}')\n",
    "        \n",
    "    def train(self, X, y):\n",
    "        # Splitting up the dataset into test and train\n",
    "        X_train, X_test, y_train, y_test = train_test_split(X, y, test_size=0.2)\n",
    "        \n",
    "        # Fit the train data\n",
    "        self.model.fit(X_train, y_train)\n",
    "        \n",
    "    def prepare_train(self, dataset=None):\n",
    "        # Create the initial train dataset if no data given in parameter\n",
    "        if dataset is None:\n",
    "            dataset = pd.read_csv('rev_desc.csv')\n",
    "            \n",
    "        X = dataset.drop(columns = ['Category'])\n",
    "        y = dataset['Category']\n",
    "        \n",
    "        # Creating the vectorized features from the Description column\n",
    "        X = self.vectorizer.transform(X['Description'])\n",
    "        return X,y\n"
   ]
  },
  {
   "cell_type": "code",
   "execution_count": 18,
   "id": "2fb7873b-0828-4e6e-97c5-6ce1f9732f30",
   "metadata": {},
   "outputs": [
    {
     "name": "stdout",
     "output_type": "stream",
     "text": [
      "Prediction from the class object: \n",
      "['Household' 'Household' 'Grocery']\n"
     ]
    }
   ],
   "source": [
    "m1 = Model()\n",
    "\n",
    "# Testing the predictions manually\n",
    "manual_test = pd.read_csv('manual_x.csv')\n",
    "m1.predict(manual_test)\n"
   ]
  },
  {
   "cell_type": "code",
   "execution_count": null,
   "id": "6a8bb21b-f37c-4fd0-9147-634f2addd26b",
   "metadata": {},
   "outputs": [],
   "source": []
  }
 ],
 "metadata": {
  "kernelspec": {
   "display_name": "Python 3 (ipykernel)",
   "language": "python",
   "name": "python3"
  },
  "language_info": {
   "codemirror_mode": {
    "name": "ipython",
    "version": 3
   },
   "file_extension": ".py",
   "mimetype": "text/x-python",
   "name": "python",
   "nbconvert_exporter": "python",
   "pygments_lexer": "ipython3",
   "version": "3.10.6"
  }
 },
 "nbformat": 4,
 "nbformat_minor": 5
}
